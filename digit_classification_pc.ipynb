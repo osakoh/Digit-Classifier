{
 "cells": [
  {
   "cell_type": "code",
   "execution_count": null,
   "metadata": {},
   "outputs": [],
   "source": []
  },
  {
   "cell_type": "code",
   "execution_count": 1,
   "metadata": {},
   "outputs": [
    {
     "name": "stderr",
     "output_type": "stream",
     "text": [
      "Using TensorFlow backend.\n"
     ]
    }
   ],
   "source": [
    "# Imports\n",
    "%matplotlib inline\n",
    "import numpy as np\n",
    "import cv2\n",
    "import os\n",
    "from sklearn.model_selection import train_test_split\n",
    "import matplotlib.pyplot as plt\n",
    "from keras.preprocessing.image import ImageDataGenerator\n",
    "from keras.models import Sequential\n",
    "from keras.models import Sequential\n",
    "from keras.layers import Dense\n",
    "from keras.optimizers import Adam\n",
    "from keras.layers import Dropout,Flatten\n",
    "from keras.layers.convolutional import Conv2D,MaxPooling2D\n",
    "import pickle\n",
    "from keras.utils.np_utils import to_categorical"
   ]
  },
  {
   "cell_type": "code",
   "execution_count": 2,
   "metadata": {},
   "outputs": [],
   "source": [
    "# %%capture\n",
    "# tqdm().pandas()"
   ]
  },
  {
   "cell_type": "code",
   "execution_count": 3,
   "metadata": {},
   "outputs": [],
   "source": [
    "# settings\n",
    "path = \"img\"\n",
    "testRatio = 0.2\n",
    "valRatio = 0.2\n",
    "imageDimensions = (32, 32, 3)"
   ]
  },
  {
   "cell_type": "code",
   "execution_count": 4,
   "metadata": {},
   "outputs": [
    {
     "name": "stdout",
     "output_type": "stream",
     "text": [
      "Total numnber of classes/folders:  10\n"
     ]
    }
   ],
   "source": [
    "myList = os.listdir(path)\n",
    "noOfClasses = len(myList)\n",
    "print(\"Total numnber of classes/folders: \", noOfClasses)"
   ]
  },
  {
   "cell_type": "markdown",
   "metadata": {},
   "source": [
    "### From the list of folders containing images get list of image names\n",
    "### - read images and store in a list\n",
    "### - resize the image\n",
    "### - store the corresponding id of each image i.e. when x is 0, classNo = 0; when x is 1, classNo = 1"
   ]
  },
  {
   "cell_type": "code",
   "execution_count": 5,
   "metadata": {},
   "outputs": [
    {
     "name": "stdout",
     "output_type": "stream",
     "text": [
      "Importing classes.......\n",
      "0 1 2 3 4 5 6 7 8 9 \n",
      "Total no of images ->  10160\n",
      "Total no of image id ->  10160\n"
     ]
    }
   ],
   "source": [
    "images = []\n",
    "classNo = []\n",
    "\n",
    "print(\"Importing classes.......\")\n",
    "\n",
    "for x in range(0, noOfClasses):\n",
    "    myPicList = os.listdir(path + \"/\" + str(x))\n",
    "    for y in myPicList:\n",
    "        curImg = cv2.imread(path + \"/\" + str(x) + \"/\" + y)\n",
    "        curImg = cv2.resize(curImg, (imageDimensions[0], imageDimensions[1]))\n",
    "        images.append(curImg)\n",
    "        classNo.append(x)\n",
    "        my_list = list(images)\n",
    "        \n",
    "    print(x, end=\" \")\n",
    "print(\"\\nTotal no of images -> \" , len(images))\n",
    "print(\"Total no of image id -> \" , len(classNo))"
   ]
  },
  {
   "cell_type": "code",
   "execution_count": 6,
   "metadata": {},
   "outputs": [
    {
     "name": "stdout",
     "output_type": "stream",
     "text": [
      "Images ->  (10160, 32, 32, 3)\n",
      "Image id's ->  (10160,)\n"
     ]
    }
   ],
   "source": [
    "# convert list into numpy array\n",
    "images = np.array(images)\n",
    "classNo = np.array(classNo)\n",
    "\n",
    "print(\"Images -> \", images.shape)\n",
    "print(\"Image id's -> \", classNo.shape)"
   ]
  },
  {
   "cell_type": "markdown",
   "metadata": {},
   "source": [
    "### Split data"
   ]
  },
  {
   "cell_type": "code",
   "execution_count": 7,
   "metadata": {},
   "outputs": [
    {
     "name": "stdout",
     "output_type": "stream",
     "text": [
      "x_train ->  (6502, 32, 32, 3)\n",
      "x_test ->  (2032, 32, 32, 3)\n",
      "x_validation ->  (1626, 32, 32, 3)\n"
     ]
    }
   ],
   "source": [
    "x_train, x_test, y_train, y_test = train_test_split(images, classNo, test_size=testRatio)\n",
    "\n",
    "x_train, x_validation, y_train, y_validation = train_test_split(x_train, y_train, test_size=valRatio)\n",
    "\n",
    "print(\"x_train -> \", x_train.shape)\n",
    "print(\"x_test -> \", x_test.shape)\n",
    "print(\"x_validation -> \", x_validation.shape)"
   ]
  },
  {
   "cell_type": "markdown",
   "metadata": {},
   "source": [
    "## Get number of images in each folder/class from y_train"
   ]
  },
  {
   "cell_type": "code",
   "execution_count": 8,
   "metadata": {},
   "outputs": [],
   "source": [
    "noOfSamples = []\n",
    "for x in range(0, noOfClasses):\n",
    "    s = (len(np.where(y_train==x)[0]))\n",
    "    noOfSamples.append(s)"
   ]
  },
  {
   "cell_type": "markdown",
   "metadata": {},
   "source": [
    "## Bar chart to view image distribution"
   ]
  },
  {
   "cell_type": "code",
   "execution_count": 9,
   "metadata": {},
   "outputs": [
    {
     "data": {
      "image/png": "[encoded data removed]",
      "text/plain": [
       "<Figure size 720x360 with 1 Axes>"
      ]
     },
     "metadata": {
      "needs_background": "light"
     },
     "output_type": "display_data"
    }
   ],
   "source": [
    "plt.figure(figsize=(10, 5))\n",
    "plt.bar(range(0, noOfClasses), noOfSamples)\n",
    "plt.title(\"Image distribution across each folder/class\")\n",
    "x_pos = np.arange(0,10)\n",
    "plt.xticks(np.arange(len(x_pos)))\n",
    "plt.xlabel(\"Class IDs\")\n",
    "plt.ylabel(\"Number of images\")\n",
    "plt.show ()"
   ]
  },
  {
   "cell_type": "markdown",
   "metadata": {},
   "source": [
    "## Preprocess image\n",
    "### - convert to grayscale\n",
    "### - equalise image\n",
    "### - normalise image(0 & 1)"
   ]
  },
  {
   "cell_type": "code",
   "execution_count": 10,
   "metadata": {},
   "outputs": [
    {
     "name": "stdout",
     "output_type": "stream",
     "text": [
      "Before preprocessing ->  (32, 32, 3)\n"
     ]
    }
   ],
   "source": [
    "print(\"Before preprocessing -> \", x_train[40].shape)"
   ]
  },
  {
   "cell_type": "code",
   "execution_count": 11,
   "metadata": {},
   "outputs": [
    {
     "name": "stdout",
     "output_type": "stream",
     "text": [
      "After preprocessing ->  (32, 32)\n"
     ]
    }
   ],
   "source": [
    "def preProcessing(img):\n",
    "    img = cv2.cvtColor(img, cv2.COLOR_BGR2GRAY)\n",
    "    img = cv2.equalizeHist(img)\n",
    "#     img = img/255\n",
    "    img = cv2.normalize(img, None, alpha=0, beta=1, norm_type=cv2.NORM_MINMAX, dtype=cv2.CV_32F)\n",
    "    return img\n",
    "\n",
    "x_train = np.array(list(map(preProcessing, x_train)))\n",
    "x_test = np.array(list(map(preProcessing, x_test)))\n",
    "x_validation = np.array(list(map(preProcessing, x_validation)))\n",
    "\n",
    "\n",
    "print(\"After preprocessing -> \", x_train[40].shape)\n",
    "\n",
    "# img = x_train[50]\n",
    "# img = cv2.resize(img, (350, 350))\n",
    "# cv2.imshow(\"preprocessed image\", img)\n",
    "# cv2.waitKey(0)\n",
    "# cv2.destroyAllWindows()"
   ]
  },
  {
   "cell_type": "code",
   "execution_count": 12,
   "metadata": {},
   "outputs": [
    {
     "name": "stdout",
     "output_type": "stream",
     "text": [
      "Before reshape x_train ->  (6502, 32, 32)\n",
      "Before reshape x_test ->  (6502, 32, 32)\n",
      "Before reshape x_validation ->  (6502, 32, 32)\n"
     ]
    }
   ],
   "source": [
    "print(\"Before reshape x_train -> \", x_train.shape)\n",
    "print(\"Before reshape x_test -> \", x_train.shape)\n",
    "print(\"Before reshape x_validation -> \", x_train.shape)"
   ]
  },
  {
   "cell_type": "markdown",
   "metadata": {},
   "source": [
    "### Reshape and add a depth of 1 for the CNN"
   ]
  },
  {
   "cell_type": "code",
   "execution_count": 13,
   "metadata": {},
   "outputs": [
    {
     "name": "stdout",
     "output_type": "stream",
     "text": [
      "After reshape x_train ->  (6502, 32, 32, 1)\n",
      "After reshape x_test ->  (2032, 32, 32, 1)\n",
      "After reshape x_validation ->  (1626, 32, 32, 1)\n"
     ]
    }
   ],
   "source": [
    "x_train = x_train.reshape(x_train.shape[0], x_train.shape[1], x_train.shape[2], 1)\n",
    "x_test = x_test.reshape(x_test.shape[0],x_test.shape[1],x_test.shape[2], 1)\n",
    "x_validation = x_validation.reshape(x_validation.shape[0],x_validation.shape[1],x_validation.shape[2], 1)\n",
    "print(\"After reshape x_train -> \" , x_train.shape)\n",
    "print(\"After reshape x_test -> \" ,x_test.shape)\n",
    "print(\"After reshape x_validation -> \" ,x_validation.shape)"
   ]
  },
  {
   "cell_type": "markdown",
   "metadata": {},
   "source": [
    "# Augument image i.e. zoom, rotation, shift, translation..."
   ]
  },
  {
   "cell_type": "code",
   "execution_count": 14,
   "metadata": {},
   "outputs": [],
   "source": [
    "dataGen = ImageDataGenerator(width_shift_range=0.1, \n",
    "                             height_shift_range=0.1, \n",
    "                             zoom_range=0.2, \n",
    "                             rotation_range=10)"
   ]
  },
  {
   "cell_type": "code",
   "execution_count": 15,
   "metadata": {},
   "outputs": [],
   "source": [
    "dataGen.fit(x_train)"
   ]
  },
  {
   "cell_type": "markdown",
   "metadata": {},
   "source": [
    "# One hot encode"
   ]
  },
  {
   "cell_type": "code",
   "execution_count": 16,
   "metadata": {},
   "outputs": [],
   "source": [
    "y_train = to_categorical(y_train, noOfClasses)\n",
    "y_test = to_categorical(y_test, noOfClasses)\n",
    "y_validation = to_categorical(y_validation, noOfClasses)"
   ]
  },
  {
   "cell_type": "code",
   "execution_count": 17,
   "metadata": {},
   "outputs": [],
   "source": [
    "def myModel():\n",
    "    noOfFilters = 60\n",
    "    sizeOfFilter1 = (5, 5)\n",
    "    sizeOfFilter2 = (3, 3)\n",
    "    sizeOfPool = (2, 2)\n",
    "    noOfNode = 500\n",
    "    \n",
    "    model = Sequential()\n",
    "    model.add((Conv2D(noOfFilters, sizeOfFilter1, input_shape=(imageDimensions[0],\n",
    "                                                               imageDimensions[1],\n",
    "                                                               1), activation='relu'\n",
    "                                                                 )))\n",
    "    \n",
    "    model.add((Conv2D(noOfFilters, sizeOfFilter1, activation='relu' )))\n",
    "    model.add(MaxPooling2D(pool_size=sizeOfPool))\n",
    "    model.add((Conv2D(noOfFilters//2, sizeOfFilter2, activation='relu' )))\n",
    "    model.add((Conv2D(noOfFilters//2, sizeOfFilter2, activation='relu' )))\n",
    "    model.add(MaxPooling2D(pool_size=sizeOfPool))\n",
    "    model.add(Dropout(0.5))\n",
    "    \n",
    "    model.add(Flatten())\n",
    "    model.add(Dense(noOfNode, activation='relu'))\n",
    "    model.add(Dropout(0.5))\n",
    "    model.add(Dense(noOfClasses, activation='softmax'))\n",
    "    model.compile(Adam(lr=0.001), loss='categorical_crossentropy', metrics=['accuracy'])\n",
    "    \n",
    "    return model\n",
    "\n",
    "# def myModel():\n",
    "#     noOfFilters = 60\n",
    "#     sizeOfFilter1 = (5,5)\n",
    "#     sizeOfFilter2 = (3, 3)\n",
    "#     sizeOfPool = (2,2)\n",
    "#     noOfNodes= 500\n",
    "\n",
    "#     model = Sequential()\n",
    "#     model.add((Conv2D(noOfFilters,sizeOfFilter1,input_shape=(imageDimensions[0],\n",
    "#                       imageDimensions[1],1),activation='relu')))\n",
    "#     model.add((Conv2D(noOfFilters, sizeOfFilter1, activation='relu')))\n",
    "#     model.add(MaxPooling2D(pool_size=sizeOfPool))\n",
    "#     model.add((Conv2D(noOfFilters//2, sizeOfFilter2, activation='relu')))\n",
    "#     model.add((Conv2D(noOfFilters//2, sizeOfFilter2, activation='relu')))\n",
    "#     model.add(MaxPooling2D(pool_size=sizeOfPool))\n",
    "#     model.add(Dropout(0.5))\n",
    "\n",
    "#     model.add(Flatten())\n",
    "#     model.add(Dense(noOfNodes,activation='relu'))\n",
    "#     model.add(Dropout(0.5))\n",
    "#     model.add(Dense(noOfClasses, activation='softmax'))\n",
    "\n",
    "#     model.compile(Adam(lr=0.001),loss='categorical_crossentropy',metrics=['accuracy'])\n",
    "#     return model"
   ]
  },
  {
   "cell_type": "code",
   "execution_count": 18,
   "metadata": {},
   "outputs": [
    {
     "name": "stdout",
     "output_type": "stream",
     "text": [
      "Model: \"sequential_1\"\n",
      "_________________________________________________________________\n",
      "Layer (type)                 Output Shape              Param #   \n",
      "=================================================================\n",
      "conv2d_1 (Conv2D)            (None, 28, 28, 60)        1560      \n",
      "_________________________________________________________________\n",
      "conv2d_2 (Conv2D)            (None, 24, 24, 60)        90060     \n",
      "_________________________________________________________________\n",
      "max_pooling2d_1 (MaxPooling2 (None, 12, 12, 60)        0         \n",
      "_________________________________________________________________\n",
      "conv2d_3 (Conv2D)            (None, 10, 10, 30)        16230     \n",
      "_________________________________________________________________\n",
      "conv2d_4 (Conv2D)            (None, 8, 8, 30)          8130      \n",
      "_________________________________________________________________\n",
      "max_pooling2d_2 (MaxPooling2 (None, 4, 4, 30)          0         \n",
      "_________________________________________________________________\n",
      "dropout_1 (Dropout)          (None, 4, 4, 30)          0         \n",
      "_________________________________________________________________\n",
      "flatten_1 (Flatten)          (None, 480)               0         \n",
      "_________________________________________________________________\n",
      "dense_1 (Dense)              (None, 500)               240500    \n",
      "_________________________________________________________________\n",
      "dropout_2 (Dropout)          (None, 500)               0         \n",
      "_________________________________________________________________\n",
      "dense_2 (Dense)              (None, 10)                5010      \n",
      "=================================================================\n",
      "Total params: 361,490\n",
      "Trainable params: 361,490\n",
      "Non-trainable params: 0\n",
      "_________________________________________________________________\n",
      "None\n"
     ]
    }
   ],
   "source": [
    "model = myModel()\n",
    "print(model.summary())"
   ]
  },
  {
   "cell_type": "code",
   "execution_count": 19,
   "metadata": {},
   "outputs": [
    {
     "name": "stdout",
     "output_type": "stream",
     "text": [
      "Epoch 1/10\n",
      "2000/2000 [==============================] - 933s 467ms/step - loss: 0.2761 - accuracy: 0.9082 - val_loss: 0.0292 - val_accuracy: 0.9889\n",
      "Epoch 2/10\n",
      "2000/2000 [==============================] - 937s 468ms/step - loss: 0.0721 - accuracy: 0.9772 - val_loss: 0.0173 - val_accuracy: 0.9951\n",
      "Epoch 3/10\n",
      "2000/2000 [==============================] - 707s 354ms/step - loss: 0.0526 - accuracy: 0.9833 - val_loss: 0.0188 - val_accuracy: 0.9926\n",
      "Epoch 4/10\n",
      "2000/2000 [==============================] - 713s 356ms/step - loss: 0.0394 - accuracy: 0.9879 - val_loss: 0.0139 - val_accuracy: 0.9945\n",
      "Epoch 5/10\n",
      "2000/2000 [==============================] - 693s 347ms/step - loss: 0.0335 - accuracy: 0.9898 - val_loss: 0.0164 - val_accuracy: 0.9945\n",
      "Epoch 6/10\n",
      "2000/2000 [==============================] - 692s 346ms/step - loss: 0.0307 - accuracy: 0.9907 - val_loss: 0.0185 - val_accuracy: 0.9938\n",
      "Epoch 7/10\n",
      "2000/2000 [==============================] - 692s 346ms/step - loss: 0.0259 - accuracy: 0.9923 - val_loss: 0.0286 - val_accuracy: 0.9932\n",
      "Epoch 8/10\n",
      "2000/2000 [==============================] - 698s 349ms/step - loss: 0.0279 - accuracy: 0.9914 - val_loss: 0.0162 - val_accuracy: 0.9957\n",
      "Epoch 9/10\n",
      "2000/2000 [==============================] - 689s 344ms/step - loss: 0.0261 - accuracy: 0.9923 - val_loss: 0.0100 - val_accuracy: 0.9969\n",
      "Epoch 10/10\n",
      "2000/2000 [==============================] - 686s 343ms/step - loss: 0.0227 - accuracy: 0.9933 - val_loss: 0.0139 - val_accuracy: 0.9963\n"
     ]
    }
   ],
   "source": [
    "batchSizeVal = 50\n",
    "epochsVal = 10\n",
    "stepsPerEpochVal = 2000\n",
    "\n",
    "# history = model.fit_generator(dataGen.flow(x_train, y_train, \n",
    "#                                  batch_size=batchSizeVal),\n",
    "#                                  steps_per_epoch=stepsPerEpochVal,\n",
    "#                                  epochs=epochsVal, \n",
    "#                                  validation_data=(x_validation, y_validation),\n",
    "#                                  shuffle=1)\n",
    "\n",
    "history = model.fit_generator(dataGen.flow(x_train,y_train,\n",
    "                                 batch_size=batchSizeVal),\n",
    "                                 steps_per_epoch=stepsPerEpochVal,\n",
    "                                 epochs=epochsVal,\n",
    "                                 validation_data=(x_validation,y_validation),\n",
    "                                 shuffle=1)\n"
   ]
  },
  {
   "cell_type": "code",
   "execution_count": 23,
   "metadata": {},
   "outputs": [
    {
     "data": {
      "image/png": "[encoded data removed]",
      "text/plain": [
       "<Figure size 432x288 with 1 Axes>"
      ]
     },
     "metadata": {
      "needs_background": "light"
     },
     "output_type": "display_data"
    },
    {
     "data": {
      "image/png": "[encoded data removed]",
      "text/plain": [
       "<Figure size 432x288 with 1 Axes>"
      ]
     },
     "metadata": {
      "needs_background": "light"
     },
     "output_type": "display_data"
    },
    {
     "name": "stdout",
     "output_type": "stream",
     "text": [
      "Test Score =  0.010322179518108003\n",
      "Test Accuracy = 0.9955708384513855\n"
     ]
    }
   ],
   "source": [
    "plt.figure(1)\n",
    "plt.plot(history.history['loss'])\n",
    "plt.plot(history.history['val_loss'])\n",
    "plt.legend(['training','validation'])\n",
    "plt.title('Loss')\n",
    "plt.xlabel('epoch')\n",
    "\n",
    "plt.figure(2)\n",
    "plt.plot(history.history['accuracy'])\n",
    "plt.plot(history.history['val_accuracy'])\n",
    "plt.legend(['training','validation'])\n",
    "plt.title('Accuracy')\n",
    "plt.xlabel('epoch')\n",
    "plt.show()\n",
    "\n",
    "#### EVALUATE USING TEST IMAGES\n",
    "score = model.evaluate(x_test,y_test,verbose=0)\n",
    "print('Test Score = ',score[0])\n",
    "print('Test Accuracy =', score[1])\n",
    "\n",
    "#### SAVE THE TRAINED MODEL \n",
    "pickle_out= open(\"model_trained.p\", \"wb\")\n",
    "pickle.dump(model,pickle_out)\n",
    "pickle_out.close()"
   ]
  }
 ],
 "metadata": {
  "kernelspec": {
   "display_name": "Python 3",
   "language": "python",
   "name": "python3"
  },
  "language_info": {
   "codemirror_mode": {
    "name": "ipython",
    "version": 3
   },
   "file_extension": ".py",
   "mimetype": "text/x-python",
   "name": "python",
   "nbconvert_exporter": "python",
   "pygments_lexer": "ipython3",
   "version": "3.5.6"
  }
 },
 "nbformat": 4,
 "nbformat_minor": 4
}
